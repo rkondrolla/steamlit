{
  "nbformat": 4,
  "nbformat_minor": 0,
  "metadata": {
    "colab": {
      "provenance": []
    },
    "kernelspec": {
      "name": "python3",
      "display_name": "Python 3"
    },
    "language_info": {
      "name": "python"
    }
  },
  "cells": [
    {
      "cell_type": "code",
      "source": [
        "import pandas as pd\n",
        "import streamlit as st"
      ],
      "metadata": {
        "id": "xcE-IZuQKah9"
      },
      "execution_count": 10,
      "outputs": []
    },
    {
      "cell_type": "code",
      "source": [
        "\n",
        "import streamlit as st\n",
        "import pandas as pd\n",
        "\n",
        "# Title of the app\n",
        "st.title('Interactive Censorship Data Visualization App')\n",
        "\n",
        "# File uploader for the CSV file\n",
        "uploaded_file = st.file_uploader(\"ratings.csv\", type=[\"csv\"])\n",
        "\n",
        "if uploaded_file is not None:\n",
        "    # Load the uploaded CSV file into a DataFrame\n",
        "    df = pd.read_csv(uploaded_file)\n",
        "\n",
        "    # Display the dataset\n",
        "    st.write(\"Sales Data:\")\n",
        "    st.write(df)\n",
        "\n",
        "    # Let the user select columns for the chart\n",
        "    columns = df.columns.tolist()\n",
        "\n",
        "    # Dropdowns for X and Y axes selection\n",
        "    x_axis = st.selectbox('Select column for X-axis', columns)\n",
        "    y_axis = st.selectbox('Select column for Y-axis', columns)\n",
        "\n",
        "    # Choose chart type: Bar Chart or Line Chart\n",
        "    chart_type = st.selectbox('Select chart type', ['Bar Chart', 'Line Chart'])\n",
        "\n",
        "    # Display chart based on user selections\n",
        "    if chart_type == 'Bar Chart':\n",
        "        st.bar_chart(df[[x_axis, y_axis]].set_index(x_axis))\n",
        "    elif chart_type == 'Line Chart':\n",
        "        st.line_chart(df[[x_axis, y_axis]].set_index(x_axis))\n",
        "else:\n",
        "    st.write(\"Please upload a CSV file to proceed.\")"
      ],
      "metadata": {
        "colab": {
          "base_uri": "https://localhost:8080/"
        },
        "id": "r8YX451BKeUU",
        "outputId": "2e0bd923-2538-4e21-b539-cc1369320f77"
      },
      "execution_count": 12,
      "outputs": [
        {
          "output_type": "stream",
          "name": "stderr",
          "text": [
            "2024-11-19 02:05:46.207 Thread 'MainThread': missing ScriptRunContext! This warning can be ignored when running in bare mode.\n",
            "2024-11-19 02:05:46.210 Thread 'MainThread': missing ScriptRunContext! This warning can be ignored when running in bare mode.\n",
            "2024-11-19 02:05:46.214 Thread 'MainThread': missing ScriptRunContext! This warning can be ignored when running in bare mode.\n",
            "2024-11-19 02:05:46.217 Thread 'MainThread': missing ScriptRunContext! This warning can be ignored when running in bare mode.\n",
            "2024-11-19 02:05:46.218 Thread 'MainThread': missing ScriptRunContext! This warning can be ignored when running in bare mode.\n",
            "2024-11-19 02:05:46.220 Thread 'MainThread': missing ScriptRunContext! This warning can be ignored when running in bare mode.\n",
            "2024-11-19 02:05:46.221 Thread 'MainThread': missing ScriptRunContext! This warning can be ignored when running in bare mode.\n",
            "2024-11-19 02:05:46.223 Thread 'MainThread': missing ScriptRunContext! This warning can be ignored when running in bare mode.\n",
            "2024-11-19 02:05:46.224 Thread 'MainThread': missing ScriptRunContext! This warning can be ignored when running in bare mode.\n",
            "2024-11-19 02:05:46.225 Thread 'MainThread': missing ScriptRunContext! This warning can be ignored when running in bare mode.\n",
            "2024-11-19 02:05:46.227 Thread 'MainThread': missing ScriptRunContext! This warning can be ignored when running in bare mode.\n"
          ]
        }
      ]
    }
  ]
}